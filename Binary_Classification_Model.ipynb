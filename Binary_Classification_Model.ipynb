{
 "cells": [
  {
   "cell_type": "markdown",
   "metadata": {},
   "source": [
    "## Binary Image Classification with Logistic Regression\n",
    "This notebook demonstrates a simple yet effective implementation of a binary image classifier using Logistic Regression from scratch — without using any high-level machine learning libraries like TensorFlow or PyTorch.\n",
    "We work with a dataset of cat and dog images, performing the following tasks:\n",
    "- Preprocess and normalize image data\n",
    "- Implement core machine learning functions manually:\n",
    "       - sigmoid(), propagate(), optimize(), and predict()\n",
    "- Train the model using gradient descent with the cross-entropy loss\n",
    "- Evaluate accuracy on both training and test sets\n",
    "- Visualize learning performance over time (cost vs. iterations)\n",
    "- Use the trained model to predict custom unseen images\n"
   ]
  },
  {
   "cell_type": "markdown",
   "metadata": {},
   "source": [
    "## Step 1: Import Required Libraries\n",
    "\n",
    "In this section, we import all the libraries necessary for the project:\n",
    "\n",
    "- `os`: to handle file and directory operations.\n",
    "- `numpy`: for numerical computations, especially arrays and matrices.\n",
    "- `PIL.Image`: to load and manipulate images.\n",
    "- `copy`: to safely duplicate Python objects.\n",
    "- `matplotlib.pyplot`: to visualize images and data.\n",
    "\n",
    "These libraries will support image loading, manipulation, and visualization for our binary classification task.\n"
   ]
  },
  {
   "cell_type": "code",
   "execution_count": 78,
   "metadata": {},
   "outputs": [],
   "source": [
    "# ================================\n",
    "# 📦 Import Required Libraries\n",
    "# ================================\n",
    "\n",
    "import os  # For interacting with the operating system (file paths, directories)\n",
    "import numpy as np  # For numerical computations and array operations\n",
    "from PIL import Image  # For loading and processing images\n",
    "import copy  # For deep copying Python objects\n",
    "import matplotlib.pyplot as plt  # For plotting and visualization\n"
   ]
  },
  {
   "cell_type": "markdown",
   "metadata": {},
   "source": [
    "## Step 2: Set Dataset Paths\n",
    "\n",
    "This project uses an image dataset downloaded from [Kaggle](https://www.kaggle.com/). \n",
    "\n",
    "Make sure to:\n",
    "1. Download the dataset manually from the Kaggle link.\n",
    "2. Extract it into a folder named `data` located in the same directory as this notebook.\n",
    "3. Ensure the following folder structure:"
   ]
  },
  {
   "cell_type": "code",
   "execution_count": 80,
   "metadata": {},
   "outputs": [],
   "source": [
    "# ================================\n",
    "# 📁 Set Paths to Image Directories\n",
    "# ================================\n",
    "\n",
    "# Update these paths according to where you've extracted the dataset\n",
    "train_data_dir = './dataset/training_set'\n",
    "test_data_dir = './dataset/test_set'\n"
   ]
  },
  {
   "cell_type": "markdown",
   "metadata": {},
   "source": [
    "## Step 3: Load and Preprocess Image Data\n",
    "\n",
    "We define a helper function `load_data_combined()` that:\n",
    "\n",
    "- Loads training and test images from separate folders (e.g., `Cat/`, `Dog/`)\n",
    "- Resizes each image to 64x64 pixels to reduce computation\n",
    "- Converts all images to RGB (in case of grayscale or RGBA inputs)\n",
    "- Labels each image as `0` (Cat) or `1` (Dog)\n",
    "- Flattens each image from `(64, 64, 3)` → `(12288, 1)`\n",
    "- Normalizes pixel values to a `[0, 1]` range\n",
    "- Returns original and processed datasets, along with class names\n",
    "\n",
    "The final shape of the data will be:\n",
    "- `train_set_x`: (12288, m_train)\n",
    "- `train_set_y`: (1, m_train)\n",
    "- `test_set_x`: (12288, m_test)\n",
    "- `test_set_y`: (1, m_test)"
   ]
  },
  {
   "cell_type": "code",
   "execution_count": 81,
   "metadata": {},
   "outputs": [],
   "source": [
    "# =====================================\n",
    "# 🧠 Load and Preprocess Image Data\n",
    "# =====================================\n",
    "\n",
    "def load_data_combined(train_data_dir, test_data_dir):\n",
    "    \"\"\"\n",
    "    Loads and preprocesses training and test datasets.\n",
    "    - Reads images from directory structure: each class in a separate folder (e.g., 'Cat', 'Dog')\n",
    "    - Resizes images to 64x64 pixels\n",
    "    - Flattens and normalizes them\n",
    "    - Converts labels into binary values (0 for Cat, 1 for Dog)\n",
    "\n",
    "    Returns:\n",
    "        train_set_x: flattened and normalized training images\n",
    "        train_set_y: training labels\n",
    "        test_set_x: flattened and normalized test images\n",
    "        test_set_y: test labels\n",
    "        train_set_x_orig: original (non-flattened) training images\n",
    "        classes: list of class names\n",
    "    \"\"\"\n",
    "    def load_images_with_labels(folder):\n",
    "        images = []\n",
    "        labels = []\n",
    "        class_names = []\n",
    "\n",
    "        for subfolder in os.listdir(folder):\n",
    "            class_names.append(subfolder)\n",
    "            label = 1 if subfolder.lower() == 'dog' else 0  # Dog = 1, Cat = 0\n",
    "            subfolder_path = os.path.join(folder, subfolder)\n",
    "            \n",
    "            for filename in os.listdir(subfolder_path):\n",
    "                img_path = os.path.join(subfolder_path, filename)\n",
    "\n",
    "                try:\n",
    "                    img = Image.open(img_path).resize((64, 64)).convert('RGB')  # Ensure 3 channels\n",
    "                    img_array = np.array(img)\n",
    "                    images.append(img_array)\n",
    "                    labels.append(label)\n",
    "                except Exception as e:\n",
    "                    print(f\"Skipping file {img_path}: {e}\")\n",
    "        \n",
    "        return np.array(images), np.array(labels), class_names\n",
    "\n",
    "    # Load raw image data\n",
    "    train_set_x_orig, train_set_y, train_classes = load_images_with_labels(train_data_dir)\n",
    "    test_set_x_orig, test_set_y, test_classes = load_images_with_labels(test_data_dir)\n",
    "\n",
    "    # Flatten image data from (m, 64, 64, 3) → (12288, m)\n",
    "    train_set_x_flatten = train_set_x_orig.reshape(train_set_x_orig.shape[0], -1).T\n",
    "    test_set_x_flatten = test_set_x_orig.reshape(test_set_x_orig.shape[0], -1).T\n",
    "\n",
    "    # Normalize pixel values (0–255 → 0–1)\n",
    "    train_set_x = train_set_x_flatten / 255.0\n",
    "    test_set_x = test_set_x_flatten / 255.0\n",
    "\n",
    "    # Reshape labels to (1, m)\n",
    "    train_set_y = train_set_y.reshape(1, -1)\n",
    "    test_set_y = test_set_y.reshape(1, -1)\n",
    "\n",
    "    # Use train classes for reference (assuming both sets share the same classes)\n",
    "    classes = train_classes\n",
    "\n",
    "    return train_set_x, train_set_y, test_set_x, test_set_y, train_set_x_orig, classes\n"
   ]
  },
  {
   "cell_type": "markdown",
   "metadata": {},
   "source": [
    "## Step 4: Load and Inspect the Dataset\n",
    "\n",
    "We now call the `load_data_combined()` function to load and preprocess the image dataset.\n",
    "\n",
    "This step is crucial for verifying:\n",
    "- The shape and structure of training and test data\n",
    "- That labels are correctly formatted\n",
    "- The number of classes detected from the folder structure\n",
    "\n",
    "You should see shapes like:\n",
    "\n",
    "- `train_set_x`: (12288, number of training examples)\n",
    "- `train_set_y`: (1, number of training examples)\n",
    "- `test_set_x`: (12288, number of test examples)\n",
    "- `test_set_y`: (1, number of test examples)"
   ]
  },
  {
   "cell_type": "code",
   "execution_count": 82,
   "metadata": {},
   "outputs": [
    {
     "name": "stdout",
     "output_type": "stream",
     "text": [
      "✅ Dataset Loaded Successfully!\n",
      "🔹 Training set images shape: (12288, 4000)\n",
      "🔹 Training set labels shape: (1, 4000)\n",
      "🔹 Test set images shape: (12288, 1000)\n",
      "🔹 Test set labels shape: (1, 1000)\n",
      "🔹 Classes found: ['Cat', 'Dog']\n"
     ]
    }
   ],
   "source": [
    "# ======================================\n",
    "# ✅ Load Data and Verify Dimensions\n",
    "# ======================================\n",
    "\n",
    "# Load processed data from folders\n",
    "train_set_x, train_set_y, test_set_x, test_set_y, train_set_x_orig, classes = load_data_combined(\n",
    "    train_data_dir, test_data_dir\n",
    ")\n",
    "\n",
    "# Print shapes to confirm successful preprocessing\n",
    "print(\"✅ Dataset Loaded Successfully!\")\n",
    "print(f\"🔹 Training set images shape: {train_set_x.shape}\")   # Expected: (12288, m_train)\n",
    "print(f\"🔹 Training set labels shape: {train_set_y.shape}\")   # Expected: (1, m_train)\")\n",
    "print(f\"🔹 Test set images shape: {test_set_x.shape}\")        # Expected: (12288, m_test)\n",
    "print(f\"🔹 Test set labels shape: {test_set_y.shape}\")        # Expected: (1, m_test)\")\n",
    "print(f\"🔹 Classes found: {classes}\")                         # Expected: ['Cat', 'Dog']\n"
   ]
  },
  {
   "cell_type": "markdown",
   "metadata": {},
   "source": [
    "## Step 5: Visualize a Sample Image\n",
    "\n",
    "To verify that our labels align correctly with the images, we visualize a sample image from the training dataset using `matplotlib`.\n",
    "\n",
    "In this example:\n",
    "- The image at index `2000` is displayed.\n",
    "- The label is printed alongside, mapped to its corresponding class name (e.g., `'Cat'` or `'Dog'`).\n",
    "\n",
    "Feel free to change the index to explore other examples in the dataset."
   ]
  },
  {
   "cell_type": "code",
   "execution_count": 83,
   "metadata": {},
   "outputs": [
    {
     "name": "stdout",
     "output_type": "stream",
     "text": [
      "y = 1 → It's a 'Dog' picture.\n"
     ]
    },
    {
     "data": {
      "image/png": "[encoded data removed]",
      "text/plain": [
       "<Figure size 640x480 with 1 Axes>"
      ]
     },
     "metadata": {},
     "output_type": "display_data"
    }
   ],
   "source": [
    "# ========================================\n",
    "# 🖼️ Visualize an Example from the Dataset\n",
    "# ========================================\n",
    "\n",
    "# Index of the example to view\n",
    "index = 2000\n",
    "\n",
    "# Display the image and corresponding label\n",
    "plt.imshow(train_set_x_orig[index])\n",
    "plt.axis('off')  # Hide axis ticks\n",
    "label = np.squeeze(train_set_y[:, index])\n",
    "print(f\"y = {label} → It's a '{classes[label]}' picture.\")\n"
   ]
  },
  {
   "cell_type": "markdown",
   "metadata": {},
   "source": [
    "## Step 6: Define Helper Functions for Parameter Initialization and Activation\n",
    "\n",
    "We create three functions:\n",
    "\n",
    "- `initialize_with_zeros(dim)`: initializes weights as zeros and bias as zero.\n",
    "- `sigmoid(z)`: computes the sigmoid activation function, key for binary classification.\n",
    "- `random_initialization(dim)`: initializes weights randomly with small values to help break symmetry during training.\n",
    "\n",
    "These building blocks prepare parameters for the logistic regression model."
   ]
  },
  {
   "cell_type": "code",
   "execution_count": 84,
   "metadata": {},
   "outputs": [],
   "source": [
    "# ====================================\n",
    "# ⚙️ Helper Functions: Initialization and Activation\n",
    "# ====================================\n",
    "\n",
    "def initialize_with_zeros(dim):\n",
    "    \"\"\"\n",
    "    Initialize weight vector and bias to zeros.\n",
    "    \n",
    "    Args:\n",
    "        dim (int): size of the weight vector\n",
    "    \n",
    "    Returns:\n",
    "        w (ndarray): initialized weight vector of shape (dim, 1)\n",
    "        b (float): initialized bias (scalar)\n",
    "    \"\"\"\n",
    "    w = np.zeros((dim, 1))\n",
    "    b = 0.0\n",
    "    return w, b\n",
    "\n",
    "def sigmoid(z):\n",
    "    \"\"\"\n",
    "    Compute the sigmoid of z.\n",
    "    \n",
    "    Args:\n",
    "        z (ndarray or float): input value or array\n",
    "    \n",
    "    Returns:\n",
    "        s (ndarray or float): sigmoid(z)\n",
    "    \"\"\"\n",
    "    s = 1 / (1 + np.exp(-z))\n",
    "    return s\n",
    "\n",
    "def random_initialization(dim):\n",
    "    \"\"\"\n",
    "    Initialize weights randomly with small values and bias to zero.\n",
    "    \n",
    "    Args:\n",
    "        dim (int): size of the weight vector\n",
    "    \n",
    "    Returns:\n",
    "        w (ndarray): randomly initialized weight vector\n",
    "        b (float): initialized bias (scalar)\n",
    "    \"\"\"\n",
    "    w = np.random.randn(dim, 1) * 0.01  # Small random values to break symmetry\n",
    "    b = 0.0\n",
    "    return w, b\n"
   ]
  },
  {
   "cell_type": "markdown",
   "metadata": {},
   "source": [
    "## Step 7: Forward and Backward Propagation\n",
    "\n",
    "The `propagate()` function computes:\n",
    "\n",
    "- The **forward propagation**, using the sigmoid activation to get predictions.\n",
    "- The **cross-entropy cost** to quantify prediction error.\n",
    "- The **backward propagation**, calculating gradients of the cost with respect to the parameters `w` and `b`.\n",
    "\n",
    "These gradients will be used to update the parameters during optimization."
   ]
  },
  {
   "cell_type": "code",
   "execution_count": 85,
   "metadata": {},
   "outputs": [],
   "source": [
    "# ============================================\n",
    "# 🔄 Forward and Backward Propagation Function\n",
    "# ============================================\n",
    "\n",
    "def propagate(w, b, X, Y):\n",
    "    \"\"\"\n",
    "    Implement the cost function and its gradient for logistic regression.\n",
    "\n",
    "    Args:\n",
    "        w (ndarray): weights, shape (num_features, 1)\n",
    "        b (float): bias, scalar\n",
    "        X (ndarray): data of shape (num_features, number_of_examples)\n",
    "        Y (ndarray): true \"label\" vector of shape (1, number_of_examples)\n",
    "\n",
    "    Returns:\n",
    "        grads (dict): dictionary containing gradients 'dw' and 'db'\n",
    "        cost (float): cross-entropy cost for current parameters\n",
    "    \"\"\"\n",
    "    m = X.shape[1]  # Number of training examples\n",
    "    \n",
    "    # Forward propagation\n",
    "    A = sigmoid(np.dot(w.T, X) + b)             # Compute activation\n",
    "    cost = (-1 / m) * np.sum(Y * np.log(A) + (1 - Y) * np.log(1 - A))  # Compute cost\n",
    "    \n",
    "    # Backward propagation\n",
    "    dw = (1 / m) * np.dot(X, (A - Y).T)         # Gradient of the loss with respect to w\n",
    "    db = (1 / m) * np.sum(A - Y)                 # Gradient of the loss with respect to b\n",
    "    \n",
    "    cost = np.squeeze(cost)  # Ensure cost is scalar\n",
    "    \n",
    "    grads = {\"dw\": dw, \"db\": db}  # Store gradients\n",
    "    \n",
    "    return grads, cost\n"
   ]
  },
  {
   "cell_type": "markdown",
   "metadata": {},
   "source": [
    "## Step 8: Optimize Parameters with Gradient Descent\n",
    "\n",
    "The `optimize()` function runs gradient descent for a specified number of iterations:\n",
    "\n",
    "- Updates weights and bias using gradients computed from `propagate()`\n",
    "- Records the cost every 1000 iterations to track convergence\n",
    "- Optionally prints cost to monitor training progress\n",
    "\n",
    "The output includes:\n",
    "- Optimized parameters (`w`, `b`)\n",
    "- Final gradients\n",
    "- Cost history for plotting or analysis"
   ]
  },
  {
   "cell_type": "code",
   "execution_count": 86,
   "metadata": {},
   "outputs": [],
   "source": [
    "# ====================================\n",
    "# ⚙️ Optimization Function: Gradient Descent\n",
    "# ====================================\n",
    "\n",
    "def optimize(w, b, X, Y, num_iterations, learning_rate, print_cost=False):\n",
    "    \"\"\"\n",
    "    Optimize weights and bias by running gradient descent.\n",
    "\n",
    "    Args:\n",
    "        w (ndarray): initial weights, shape (num_features, 1)\n",
    "        b (float): initial bias\n",
    "        X (ndarray): training data, shape (num_features, number_of_examples)\n",
    "        Y (ndarray): true labels, shape (1, number_of_examples)\n",
    "        num_iterations (int): number of iterations to run gradient descent\n",
    "        learning_rate (float): learning rate for parameter updates\n",
    "        print_cost (bool): if True, prints cost every 1000 iterations\n",
    "\n",
    "    Returns:\n",
    "        params (dict): updated weights and bias\n",
    "        grads (dict): final gradients\n",
    "        costs (list): list of costs at intervals during optimization\n",
    "    \"\"\"\n",
    "    w = copy.deepcopy(w)\n",
    "    b = copy.deepcopy(b)\n",
    "    costs = []\n",
    "\n",
    "    for i in range(num_iterations):\n",
    "        # Forward and backward propagation to get gradients and cost\n",
    "        grads, cost = propagate(w, b, X, Y)\n",
    "        dw = grads[\"dw\"]\n",
    "        db = grads[\"db\"]\n",
    "\n",
    "        # Update parameters\n",
    "        w = w - learning_rate * dw\n",
    "        b = b - learning_rate * db\n",
    "\n",
    "        # Record and optionally print cost every 1000 iterations\n",
    "        if i % 1000 == 0:\n",
    "            costs.append(cost)\n",
    "            if print_cost:\n",
    "                print(f\"Cost after iteration {i}: {cost:.6f}\")\n",
    "\n",
    "    params = {\"w\": w, \"b\": b}\n",
    "    return params, grads, costs\n",
    "\n"
   ]
  },
  {
   "cell_type": "markdown",
   "metadata": {},
   "source": [
    "## Step 9: Predict Labels on New Data\n",
    "\n",
    "The `predict()` function computes predicted labels (0 or 1) for a given dataset `X`, using learned parameters `w` and `b`.\n",
    "\n",
    "It applies the sigmoid function to compute probabilities and applies a threshold of 0.5 to classify the inputs.\n"
   ]
  },
  {
   "cell_type": "code",
   "execution_count": 87,
   "metadata": {},
   "outputs": [],
   "source": [
    "# ===============================\n",
    "# 🎯 Prediction Function\n",
    "# ===============================\n",
    "\n",
    "def predict(w, b, X):\n",
    "    \"\"\"\n",
    "    Predict whether the label is 0 or 1 using learned logistic regression parameters.\n",
    "\n",
    "    Args:\n",
    "        w (ndarray): weights, shape (num_features, 1)\n",
    "        b (float): bias, scalar\n",
    "        X (ndarray): data, shape (num_features, number_of_examples)\n",
    "\n",
    "    Returns:\n",
    "        Y_prediction (ndarray): predicted labels (0/1), shape (1, number_of_examples)\n",
    "    \"\"\"\n",
    "    m = X.shape[1]  # Number of examples\n",
    "    Y_prediction = np.zeros((1, m))\n",
    "\n",
    "    # Compute probabilities using sigmoid\n",
    "    A = sigmoid(np.dot(w.T, X) + b)\n",
    "\n",
    "    # Convert probabilities to binary predictions (threshold 0.5)\n",
    "    Y_prediction = (A > 0.5).astype(int)\n",
    "\n",
    "    return Y_prediction\n"
   ]
  },
  {
   "cell_type": "markdown",
   "metadata": {},
   "source": [
    "## Step 10: Train the Logistic Regression Model\n",
    "\n",
    "The `model()` function integrates all previous steps:\n",
    "\n",
    "- Initializes parameters\n",
    "- Optimizes them via gradient descent\n",
    "- Predicts labels on train and test data\n",
    "- Calculates accuracy to evaluate performance\n",
    "\n",
    "Returns a dictionary containing learned parameters, predictions, costs history, and hyperparameters."
   ]
  },
  {
   "cell_type": "code",
   "execution_count": 88,
   "metadata": {},
   "outputs": [],
   "source": [
    "# ===============================\n",
    "# 🔄 Complete Logistic Regression Model\n",
    "# ===============================\n",
    "\n",
    "def model(X_train, Y_train, X_test, Y_test, num_iterations, learning_rate, print_cost=False):\n",
    "    \"\"\"\n",
    "    Build and train the logistic regression model.\n",
    "\n",
    "    Args:\n",
    "        X_train (ndarray): training data, shape (num_features, num_train_examples)\n",
    "        Y_train (ndarray): training labels, shape (1, num_train_examples)\n",
    "        X_test (ndarray): test data, shape (num_features, num_test_examples)\n",
    "        Y_test (ndarray): test labels, shape (1, num_test_examples)\n",
    "        num_iterations (int): number of iterations for optimization\n",
    "        learning_rate (float): learning rate for gradient descent\n",
    "        print_cost (bool): whether to print cost and accuracy during training\n",
    "\n",
    "    Returns:\n",
    "        data (dict): dictionary containing costs, predictions, parameters, and hyperparameters\n",
    "    \"\"\"\n",
    "    # Initialize parameters randomly\n",
    "    w, b = random_initialization(X_train.shape[0])\n",
    "\n",
    "    # Optimize parameters using gradient descent\n",
    "    parameters, grads, costs = optimize(w, b, X_train, Y_train, num_iterations, learning_rate, print_cost)\n",
    "\n",
    "    w = parameters[\"w\"]\n",
    "    b = parameters[\"b\"]\n",
    "\n",
    "    # Predict on training and test sets\n",
    "    Y_prediction_train = predict(w, b, X_train)\n",
    "    Y_prediction_test = predict(w, b, X_test)\n",
    "\n",
    "    # Calculate and print accuracy if requested\n",
    "    if print_cost:\n",
    "        train_accuracy = 100 - np.mean(np.abs(Y_prediction_train - Y_train)) * 100\n",
    "        test_accuracy = 100 - np.mean(np.abs(Y_prediction_test - Y_test)) * 100\n",
    "        print(f\"Training accuracy: {train_accuracy:.2f} %\")\n",
    "        print(f\"Test accuracy: {test_accuracy:.2f} %\")\n",
    "\n",
    "    # Store useful outputs in dictionary\n",
    "    data = {\n",
    "        \"costs\": costs,\n",
    "        \"Y_prediction_train\": Y_prediction_train,\n",
    "        \"Y_prediction_test\": Y_prediction_test,\n",
    "        \"w\": w,\n",
    "        \"b\": b,\n",
    "        \"learning_rate\": learning_rate,\n",
    "        \"num_iterations\": num_iterations,\n",
    "    }\n",
    "    \n",
    "    return data\n"
   ]
  },
  {
   "cell_type": "markdown",
   "metadata": {},
   "source": [
    "## Step 11: Train and Evaluate the Model\n",
    "\n",
    "Here we load the data and train the logistic regression model with 10,000 iterations and a learning rate of 0.002. The training and test accuracies are printed during training.\n",
    "\n",
    "We also display some sample predictions and parameter shapes for verification."
   ]
  },
  {
   "cell_type": "code",
   "execution_count": 93,
   "metadata": {},
   "outputs": [
    {
     "name": "stdout",
     "output_type": "stream",
     "text": [
      "Cost after iteration 0: 0.714061\n",
      "Cost after iteration 1000: 0.640194\n",
      "Cost after iteration 2000: 0.623278\n",
      "Cost after iteration 3000: 0.610553\n",
      "Cost after iteration 4000: 0.600144\n",
      "Cost after iteration 5000: 0.591282\n",
      "Cost after iteration 6000: 0.583532\n",
      "Cost after iteration 7000: 0.576620\n",
      "Cost after iteration 8000: 0.570362\n",
      "Cost after iteration 9000: 0.564629\n",
      "Training accuracy: 72.88 %\n",
      "Test accuracy: 60.60 %\n",
      "Final weights shape: (12288, 1)\n",
      "Final bias: -0.027802806815437255\n",
      "Sample test predictions: [[0 1 0 1 1 1 0 1 1 0]]\n"
     ]
    }
   ],
   "source": [
    "# ===============================\n",
    "# 🚀 Train and Test the Logistic Regression Model\n",
    "# ===============================\n",
    "\n",
    "# Load the dataset (ensure directories are set correctly)\n",
    "train_set_x, train_set_y, test_set_x, test_set_y, train_set_x_orig, classes = load_data_combined(train_data_dir, test_data_dir)\n",
    "\n",
    "# Train the model with specified hyperparameters\n",
    "model_results = model(\n",
    "    train_set_x, train_set_y,\n",
    "    test_set_x, test_set_y,\n",
    "    num_iterations=10000,\n",
    "    learning_rate=0.002,\n",
    "    print_cost=True\n",
    ")\n",
    "\n",
    "# Optional: check final shapes and sample predictions\n",
    "print(f\"Final weights shape: {model_results['w'].shape}\")\n",
    "print(f\"Final bias: {model_results['b']}\")\n",
    "print(f\"Sample test predictions: {model_results['Y_prediction_test'][:, :10]}\")\n"
   ]
  },
  {
   "cell_type": "markdown",
   "metadata": {},
   "source": [
    "## Step 12: Visualize Learning Curve\n",
    "\n",
    "The cost function is plotted against the number of iterations to visualize how well the model converges during training.\n",
    "\n",
    "Note that costs were recorded every 1000 iterations."
   ]
  },
  {
   "cell_type": "code",
   "execution_count": 96,
   "metadata": {},
   "outputs": [
    {
     "data": {
      "image/png": "[encoded data removed]",
      "text/plain": [
       "<Figure size 640x480 with 1 Axes>"
      ]
     },
     "metadata": {},
     "output_type": "display_data"
    }
   ],
   "source": [
    "# Plotting the cost over iterations to visualize convergence\n",
    "\n",
    "costs = np.squeeze(model_results['costs'])\n",
    "plt.plot(np.arange(len(costs)) * 1000, costs)  # x-axis scaled by 1000 iterations\n",
    "plt.ylabel('Cost')\n",
    "plt.xlabel('Iterations')\n",
    "plt.title(f\"Learning Rate = {model_results['learning_rate']}\")\n",
    "plt.show()\n"
   ]
  },
  {
   "cell_type": "markdown",
   "metadata": {},
   "source": [
    "## Step 13: Predict on Your Own Image Using a Utility Function\n",
    "\n",
    "This function allows you to test the model on any new image by providing the image path. It automatically preprocesses the image, makes a prediction using the trained logistic regression model, and visualizes the result.\n",
    "\n",
    "### Usage Example:\n",
    "\n",
    "```python\n",
    "my_image_path = r'path_to_your_image.jpg'\n",
    "predict_single_image(my_image_path, parameters, classes)"
   ]
  },
  {
   "cell_type": "code",
   "execution_count": 97,
   "metadata": {},
   "outputs": [],
   "source": [
    "# ================================================\n",
    "# 🔍 Utility Function: Predict a Single Image\n",
    "# ================================================\n",
    "\n",
    "def predict_single_image(image_path, model_params, class_names, image_size=(64, 64)):\n",
    "    \"\"\"\n",
    "    Predicts and displays the result for a single image using the trained model.\n",
    "\n",
    "    Args:\n",
    "        image_path (str): Path to the image file.\n",
    "        model_params (dict): Trained model parameters ('w', 'b').\n",
    "        class_names (list): Class names (e.g., ['Cat', 'Dog']).\n",
    "        image_size (tuple): Target size for resizing the image (default: (64, 64)).\n",
    "    \"\"\"\n",
    "    try:\n",
    "        # Load and preprocess the image\n",
    "        image = Image.open(image_path).resize(image_size)\n",
    "        image_np = np.array(image).astype(np.float32) / 255.0  # Normalize\n",
    "        image_vector = image_np.reshape((1, image_size[0] * image_size[1] * 3)).T  # Flatten to column vector\n",
    "\n",
    "        # Predict using the trained model\n",
    "        prediction = predict(model_params[\"w\"], model_params[\"b\"], image_vector)\n",
    "        predicted_class = int(np.squeeze(prediction))\n",
    "\n",
    "        # Show image and predicted label\n",
    "        plt.imshow(image)\n",
    "        plt.axis('off')  # Hide axis ticks\n",
    "        plt.title(f\"Prediction: {class_names[predicted_class]}\")\n",
    "        plt.show()\n",
    "\n",
    "        print(\"y = \" + str(np.squeeze(prediction)))\n",
    "        print(f\"The model predicts a \\\"{class_names[predicted_class]}\\\" picture.\")\n",
    "\n",
    "    except FileNotFoundError:\n",
    "        print(f\"❌ File not found: {image_path}\")\n",
    "    except Exception as e:\n",
    "        print(f\"⚠️ Error processing image: {e}\")\n"
   ]
  },
  {
   "cell_type": "markdown",
   "metadata": {},
   "source": [
    "## 🖼️ Step 14: Test the Model with Your Own Image\n",
    "\n",
    "You can use your own image to see how well the trained model performs on unseen data. Just provide the path to your image and run the prediction function.\n",
    "\n",
    "```python\n",
    "# Replace with your actual image path\n",
    "my_image_path = './dataset/manual_set/1.jpg'\n",
    "\n",
    "predict_single_image(my_image_path, model_results, classes)\n"
   ]
  },
  {
   "cell_type": "code",
   "execution_count": 99,
   "metadata": {},
   "outputs": [
    {
     "data": {
      "image/png": "[encoded data removed]",
      "text/plain": [
       "<Figure size 640x480 with 1 Axes>"
      ]
     },
     "metadata": {},
     "output_type": "display_data"
    },
    {
     "name": "stdout",
     "output_type": "stream",
     "text": [
      "y = 0\n",
      "The model predicts a \"Cat\" picture.\n"
     ]
    }
   ],
   "source": [
    "# Replace with your actual image path\n",
    "my_image_path = './dataset/manual_set/4.jpg'\n",
    "\n",
    "predict_single_image(my_image_path, model_results, classes)"
   ]
  },
  {
   "cell_type": "markdown",
   "metadata": {},
   "source": [
    "### Learning Rate Optimization: An Empirical Evaluation\n",
    "To enhance model performance, a systematic evaluation of various learning rates will be undertaken. This investigative process is integral to artificial intelligence development, which relies on iterative exploration and empirical testing to determine optimal hyperparameter configurations and their impact on convergence and overall efficacy."
   ]
  },
  {
   "cell_type": "code",
   "execution_count": 101,
   "metadata": {},
   "outputs": [],
   "source": [
    "def optimize(w, b, X, Y, num_iterations, learning_rate, print_cost=False):\n",
    "    \"\"\"\n",
    "    Optimize weights and bias by running gradient descent.\n",
    "\n",
    "    Args:\n",
    "        w (ndarray): initial weights, shape (num_features, 1)\n",
    "        b (float): initial bias\n",
    "        X (ndarray): training data, shape (num_features, number_of_examples)\n",
    "        Y (ndarray): true labels, shape (1, number_of_examples)\n",
    "        num_iterations (int): number of iterations to run gradient descent\n",
    "        learning_rate (float): learning rate for parameter updates\n",
    "        print_cost (bool): if True, prints cost every 1000 iterations\n",
    "\n",
    "    Returns:\n",
    "        params (dict): updated weights and bias\n",
    "        grads (dict): final gradients\n",
    "        costs (list): list of costs at intervals during optimization\n",
    "    \"\"\"\n",
    "    w = copy.deepcopy(w)\n",
    "    b = copy.deepcopy(b)\n",
    "    costs = []\n",
    "\n",
    "    for i in range(num_iterations):\n",
    "        # Forward and backward propagation to get gradients and cost\n",
    "        grads, cost = propagate(w, b, X, Y)\n",
    "        dw = grads[\"dw\"]\n",
    "        db = grads[\"db\"]\n",
    "\n",
    "        # Update parameters\n",
    "        w = w - learning_rate * dw\n",
    "        b = b - learning_rate * db\n",
    "\n",
    "        # Record and optionally print cost every 1000 iterations\n",
    "        if i % 100 == 0:\n",
    "            costs.append(cost)\n",
    "            if print_cost:\n",
    "                print(f\"Cost after iteration {i}: {cost:.6f}\")\n",
    "\n",
    "    params = {\"w\": w, \"b\": b}\n",
    "    return params, grads, costs"
   ]
  },
  {
   "cell_type": "code",
   "execution_count": 102,
   "metadata": {},
   "outputs": [
    {
     "name": "stdout",
     "output_type": "stream",
     "text": [
      "Training a model with learning rate: 0.01\n",
      "\n",
      "-------------------------------------------------------\n",
      "\n",
      "Training a model with learning rate: 0.001\n",
      "\n",
      "-------------------------------------------------------\n",
      "\n",
      "Training a model with learning rate: 0.0001\n",
      "\n",
      "-------------------------------------------------------\n",
      "\n"
     ]
    },
    {
     "data": {
      "image/png": "[encoded data removed]",
      "text/plain": [
       "<Figure size 640x480 with 1 Axes>"
      ]
     },
     "metadata": {},
     "output_type": "display_data"
    }
   ],
   "source": [
    "learning_rates = [0.01, 0.001, 0.0001]\n",
    "models = {}\n",
    "\n",
    "for lr in learning_rates:\n",
    "    print (\"Training a model with learning rate: \" + str(lr))\n",
    "    models[str(lr)] = model(train_set_x, train_set_y, test_set_x, test_set_y, num_iterations=500, learning_rate=lr, print_cost=False)\n",
    "    print ('\\n' + \"-------------------------------------------------------\" + '\\n')\n",
    "\n",
    "for lr in learning_rates:\n",
    "    plt.plot(np.squeeze(models[str(lr)][\"costs\"]), label=str(models[str(lr)][\"learning_rate\"]))\n",
    "\n",
    "plt.ylabel('cost')\n",
    "plt.xlabel('iterations (hundreds)')\n",
    "\n",
    "legend = plt.legend(loc='upper center', shadow=True)\n",
    "frame = legend.get_frame()\n",
    "frame.set_facecolor('0.90')\n",
    "plt.show()"
   ]
  },
  {
   "cell_type": "code",
   "execution_count": null,
   "metadata": {},
   "outputs": [],
   "source": []
  }
 ],
 "metadata": {
  "kernelspec": {
   "display_name": "Python 3",
   "language": "python",
   "name": "python3"
  },
  "language_info": {
   "codemirror_mode": {
    "name": "ipython",
    "version": 3
   },
   "file_extension": ".py",
   "mimetype": "text/x-python",
   "name": "python",
   "nbconvert_exporter": "python",
   "pygments_lexer": "ipython3",
   "version": "3.13.3"
  }
 },
 "nbformat": 4,
 "nbformat_minor": 2
}
